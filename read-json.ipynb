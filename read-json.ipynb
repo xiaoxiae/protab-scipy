{
 "cells": [
  {
   "cell_type": "code",
   "execution_count": 1,
   "id": "turned-vermont",
   "metadata": {},
   "outputs": [],
   "source": [
    "import json"
   ]
  },
  {
   "cell_type": "code",
   "execution_count": 4,
   "id": "responsible-inquiry",
   "metadata": {},
   "outputs": [],
   "source": [
    "x=json.load(open('data/test.json'))"
   ]
  },
  {
   "cell_type": "code",
   "execution_count": null,
   "id": "indoor-tamil",
   "metadata": {},
   "outputs": [],
   "source": []
  }
 ],
 "metadata": {
  "kernelspec": {
   "display_name": "Python 3",
   "language": "python",
   "name": "python3"
  },
  "language_info": {
   "codemirror_mode": {
    "name": "ipython",
    "version": 3
   },
   "file_extension": ".py",
   "mimetype": "text/x-python",
   "name": "python",
   "nbconvert_exporter": "python",
   "pygments_lexer": "ipython3",
   "version": "3.9.2"
  }
 },
 "nbformat": 4,
 "nbformat_minor": 5
}
